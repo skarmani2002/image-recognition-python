{
 "cells": [
  {
   "cell_type": "code",
   "execution_count": 28,
   "metadata": {},
   "outputs": [
    {
     "name": "stdout",
     "output_type": "stream",
     "text": [
      "list index out of range\n",
      "Counter({3: 503, 9: 468, 8: 455, 5: 441, 6: 424, 2: 405, 7: 404, 4: 367, 1: 357})\n"
     ]
    },
    {
     "data": {
      "image/png": "[encoded data removed]",
      "text/plain": [
       "<matplotlib.figure.Figure at 0x8e5bb00>"
      ]
     },
     "metadata": {},
     "output_type": "display_data"
    }
   ],
   "source": [
    "from PIL import Image\n",
    "import numpy as np\n",
    "import matplotlib.pyplot as plt\n",
    "import time\n",
    "from collections import Counter\n",
    "\n",
    "from matplotlib import style\n",
    "style.use(\"ggplot\")\n",
    "\n",
    "def createExamples():\n",
    "    numberArrayExamples = open('numArEx.txt','a')\n",
    "    numbersWeHave = range(1,10)\n",
    "    for eachNum in numbersWeHave:\n",
    "        for furtherNum in numbersWeHave:\n",
    "\n",
    "            imgFilePath = 'images/numbers/'+str(eachNum)+'.'+str(furtherNum)+'.png'\n",
    "            ei = Image.open(imgFilePath)\n",
    "            eiar = np.array(ei)\n",
    "            eiarl = str(eiar.tolist())\n",
    "\n",
    "            lineToWrite = str(eachNum)+'::'+eiarl+'\\n'\n",
    "            numberArrayExamples.write(lineToWrite)\n",
    "\n",
    "\n",
    "\n",
    "            \n",
    "            \n",
    "def threshold(imageArray):\n",
    "    balanceAr = []\n",
    "    newAr = imageArray\n",
    "    for eachPart in imageArray:\n",
    "        for theParts in eachPart:\n",
    "\t\t\t# for the reduce(lambda x, y: x + y, theParts[:3]) / len(theParts[:3])\n",
    "\t\t\t# in Python 3, just use: from statistics import mean\n",
    "\t\t\t# then do avgNum = mean(theParts[:3])\n",
    "            avgNum = reduce(lambda x, y: x + y, theParts[:3]) / len(theParts[:3])\n",
    "            balanceAr.append(avgNum)\n",
    "    balance = reduce(lambda x, y: x + y, balanceAr) / len(balanceAr)\n",
    "    for eachRow in newAr:\n",
    "        for eachPix in eachRow:\n",
    "            if reduce(lambda x, y: x + y, eachPix[:3]) / len(eachPix[:3]) > balance:\n",
    "                eachPix[0] = 255\n",
    "                eachPix[1] = 255\n",
    "                eachPix[2] = 255\n",
    "                eachPix[3] = 255\n",
    "            else:\n",
    "                eachPix[0] = 0\n",
    "                eachPix[1] = 0\n",
    "                eachPix[2] = 0\n",
    "                eachPix[3] = 255\n",
    "    return newAr\n",
    "\n",
    "\n",
    "\n",
    "def whatNumIsThis(filePath):\n",
    "\n",
    "    matchedAr = []\n",
    "    loadExamps = open('numArEx.txt','r').read()\n",
    "    loadExamps = loadExamps.split('\\n')\n",
    "    i = Image.open(filePath)\n",
    "    iar = np.array(i)\n",
    "    iarl = iar.tolist()\n",
    "    inQuestion = str(iarl)\n",
    "    for eachExample in loadExamps:\n",
    "        try:\n",
    "            splitEx = eachExample.split('::')\n",
    "            currentNum = splitEx[0]\n",
    "            currentAr = splitEx[1]\n",
    "            eachPixEx = currentAr.split('],')\n",
    "            eachPixInQ = inQuestion.split('],')\n",
    "            x = 0\n",
    "            while x < len(eachPixEx):\n",
    "                if eachPixEx[x] == eachPixInQ[x]:\n",
    "                    matchedAr.append(int(currentNum))\n",
    "\n",
    "                x+=1\n",
    "        except Exception as e:\n",
    "            print(str(e))\n",
    "                \n",
    "    x = Counter(matchedAr)\n",
    "    print(x)\n",
    "    graphX = []\n",
    "    graphY = []\n",
    "\n",
    "    ylimi = 0\n",
    "\n",
    "    for eachThing in x:\n",
    "        graphX.append(eachThing)\n",
    "        graphY.append(x[eachThing])\n",
    "        ylimi = x[eachThing]\n",
    "\n",
    "\n",
    "\n",
    "    fig = plt.figure()\n",
    "    ax1 = plt.subplot2grid((4,4),(0,0), rowspan=1, colspan=4)\n",
    "    ax2 = plt.subplot2grid((4,4),(1,0), rowspan=3,colspan=4)\n",
    "    \n",
    "    ax1.imshow(iar)\n",
    "    ax2.bar(graphX,graphY,align='center')\n",
    "    plt.ylim(400)\n",
    "    \n",
    "    xloc = plt.MaxNLocator(12)\n",
    "    ax2.xaxis.set_major_locator(xloc)\n",
    "\n",
    "    plt.show()\n",
    "\n",
    "whatNumIsThis('images/test_3.png')"
   ]
  },
  {
   "cell_type": "code",
   "execution_count": 10,
   "metadata": {},
   "outputs": [],
   "source": [
    "i = Image.open('images/numbers/0.1.png')\n",
    "iar = np.array(i)\n",
    "i2 = Image.open('images/numbers/y0.4.png')\n",
    "iar2 = np.array(i2)\n",
    "i3 = Image.open('images/numbers/y0.5.png')\n",
    "iar3 = np.array(i3)\n",
    "i4 = Image.open('images/sentdex.png')\n",
    "iar4 = np.array(i4) "
   ]
  },
  {
   "cell_type": "code",
   "execution_count": 11,
   "metadata": {},
   "outputs": [
    {
     "data": {
      "image/png": "[encoded data removed]",
      "text/plain": [
       "<matplotlib.figure.Figure at 0x7db8e48>"
      ]
     },
     "metadata": {},
     "output_type": "display_data"
    }
   ],
   "source": [
    "fig = plt.figure()\n",
    "ax1 = plt.subplot2grid((8,6),(0,0), rowspan=4, colspan=3)\n",
    "ax2 = plt.subplot2grid((8,6),(4,0), rowspan=4, colspan=3)\n",
    "ax3 = plt.subplot2grid((8,6),(0,3), rowspan=4, colspan=3)\n",
    "ax4 = plt.subplot2grid((8,6),(4,3), rowspan=4, colspan=3)\n",
    "\n",
    "ax1.imshow(iar)\n",
    "ax2.imshow(iar2)\n",
    "ax3.imshow(iar3)\n",
    "ax4.imshow(iar4)\n",
    "\n",
    "\n",
    "plt.show()"
   ]
  },
  {
   "cell_type": "code",
   "execution_count": 13,
   "metadata": {},
   "outputs": [
    {
     "name": "stderr",
     "output_type": "stream",
     "text": [
      "C:\\Users\\suresh\\AppData\\Local\\Continuum\\Anaconda2\\lib\\site-packages\\ipykernel_launcher.py:11: RuntimeWarning: overflow encountered in ubyte_scalars\n",
      "  # This is added back by InteractiveShellApp.init_path()\n",
      "C:\\Users\\suresh\\AppData\\Local\\Continuum\\Anaconda2\\lib\\site-packages\\ipykernel_launcher.py:16: RuntimeWarning: overflow encountered in ubyte_scalars\n",
      "  app.launch_new_instance()\n"
     ]
    },
    {
     "data": {
      "image/png": "[encoded data removed]",
      "text/plain": [
       "<matplotlib.figure.Figure at 0x7e7ac50>"
      ]
     },
     "metadata": {},
     "output_type": "display_data"
    }
   ],
   "source": [
    "i = Image.open('images/numbers/0.1.png')\n",
    "iar = np.array(i)\n",
    "i2 = Image.open('images/numbers/y0.4.png')\n",
    "iar2 = np.array(i2)\n",
    "i3 = Image.open('images/numbers/y0.5.png')\n",
    "iar3 = np.array(i3)\n",
    "i4 = Image.open('images/sentdex.png')\n",
    "iar4 = np.array(i4)\n",
    "\n",
    "\n",
    "iar = threshold(iar)\n",
    "iar2 = threshold(iar2)\n",
    "iar3 = threshold(iar3)\n",
    "iar4 = threshold(iar4)\n",
    "\n",
    "fig = plt.figure()\n",
    "ax1 = plt.subplot2grid((8,6),(0,0), rowspan=4, colspan=3)\n",
    "ax2 = plt.subplot2grid((8,6),(4,0), rowspan=4, colspan=3)\n",
    "ax3 = plt.subplot2grid((8,6),(0,3), rowspan=4, colspan=3)\n",
    "ax4 = plt.subplot2grid((8,6),(4,3), rowspan=4, colspan=3)\n",
    "\n",
    "ax1.imshow(iar)\n",
    "ax2.imshow(iar2)\n",
    "ax3.imshow(iar3)\n",
    "ax4.imshow(iar4)\n",
    "\n",
    "\n",
    "plt.show()"
   ]
  },
  {
   "cell_type": "code",
   "execution_count": null,
   "metadata": {
    "collapsed": true
   },
   "outputs": [],
   "source": []
  }
 ],
 "metadata": {
  "kernelspec": {
   "display_name": "Python 2",
   "language": "python",
   "name": "python2"
  },
  "language_info": {
   "codemirror_mode": {
    "name": "ipython",
    "version": 2
   },
   "file_extension": ".py",
   "mimetype": "text/x-python",
   "name": "python",
   "nbconvert_exporter": "python",
   "pygments_lexer": "ipython2",
   "version": "2.7.13"
  }
 },
 "nbformat": 4,
 "nbformat_minor": 2
}
